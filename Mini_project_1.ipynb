{
  "nbformat": 4,
  "nbformat_minor": 0,
  "metadata": {
    "colab": {
      "name": "Mini_project_1.ipynb",
      "provenance": []
    },
    "kernelspec": {
      "name": "python3",
      "display_name": "Python 3"
    },
    "language_info": {
      "name": "python"
    }
  },
  "cells": [
    {
      "cell_type": "code",
      "metadata": {
        "colab": {
          "base_uri": "https://localhost:8080/"
        },
        "id": "WOgMddL0AgdH",
        "outputId": "116f78a0-c6c9-4aae-c4a8-4a95e1ca6e73"
      },
      "source": [
        "from keras.datasets import mnist\n",
        "import numpy as np\n",
        "import requests, gzip, os, hashlib\n",
        "%pylab inline"
      ],
      "execution_count": 1,
      "outputs": [
        {
          "output_type": "stream",
          "name": "stdout",
          "text": [
            "Populating the interactive namespace from numpy and matplotlib\n"
          ]
        }
      ]
    },
    {
      "cell_type": "code",
      "metadata": {
        "id": "oIIBycCCA6h9"
      },
      "source": [
        "(x, y), (x_test, y_test) = mnist.load_data()"
      ],
      "execution_count": null,
      "outputs": []
    },
    {
      "cell_type": "code",
      "metadata": {
        "id": "ijBlVh-010wc"
      },
      "source": [
        "path = \"/content\""
      ],
      "execution_count": 58,
      "outputs": []
    },
    {
      "cell_type": "code",
      "metadata": {
        "id": "rGBMqlbj1x8k"
      },
      "source": [
        "def fetch(url):\n",
        "    fp = os.path.join(path, hashlib.md5(url.encode('utf-8')).hexdigest())\n",
        "    if os.path.isfile(fp):\n",
        "        with open(fp, \"rb\") as f:\n",
        "            data = f.read()\n",
        "    else:\n",
        "        with open(fp, \"wb\") as f:\n",
        "            data = requests.get(url).content\n",
        "            f.write(data)\n",
        "    return np.frombuffer(gzip.decompress(data), dtype=np.uint8).copy()"
      ],
      "execution_count": 59,
      "outputs": []
    },
    {
      "cell_type": "code",
      "metadata": {
        "id": "UVnMv4n73CHU"
      },
      "source": [
        "x = fetch(\"http://yann.lecun.com/exdb/mnist/train-images-idx3-ubyte.gz\")[0x10:].reshape((-1, 28, 28))\n",
        "y = fetch(\"http://yann.lecun.com/exdb/mnist/train-labels-idx1-ubyte.gz\")[8:]\n",
        "x_test = fetch(\"http://yann.lecun.com/exdb/mnist/t10k-images-idx3-ubyte.gz\")[0x10:].reshape((-1, 28*28))\n",
        "y_test = fetch(\"http://yann.lecun.com/exdb/mnist/t10k-labels-idx1-ubyte.gz\")[8:]"
      ],
      "execution_count": 60,
      "outputs": []
    },
    {
      "cell_type": "code",
      "metadata": {
        "id": "LXOYG-FncaLc"
      },
      "source": [
        "x = x * 255\n",
        "x_test = x_test * 255"
      ],
      "execution_count": 61,
      "outputs": []
    },
    {
      "cell_type": "code",
      "metadata": {
        "id": "D5xnNcs6CBS4"
      },
      "source": [
        "#Validation split\n",
        "rand=np.arange(60000)\n",
        "np.random.seed(50)\n",
        "np.random.shuffle(rand)\n",
        "train_no=rand[:50000]\n",
        "\n",
        "val_no=np.setdiff1d(rand,train_no)\n",
        "\n",
        "x_train,x_val=x[train_no,:,:],x[val_no,:,:]\n",
        "y_train,y_val=y[train_no],y[val_no]"
      ],
      "execution_count": 62,
      "outputs": []
    },
    {
      "cell_type": "code",
      "metadata": {
        "id": "5NWojThBCdKF"
      },
      "source": [
        "def init(x,y):\n",
        "    layer=np.random.uniform(-1.,1.,size=(x,y))/np.sqrt(x*y)\n",
        "    return layer.astype(np.float32)\n",
        "\n",
        "np.random.seed(42)\n",
        "W1=init(28*28,128)\n",
        "W2=init(128,10)"
      ],
      "execution_count": 63,
      "outputs": []
    },
    {
      "cell_type": "code",
      "metadata": {
        "id": "Wbe_lBVADMgW"
      },
      "source": [
        "#Sigmoid funstion\n",
        "def sigmoid(x):\n",
        "    return 1/(np.exp(-x)+1)    \n",
        "\n",
        "#derivative of sigmoid\n",
        "def d_sigmoid(x):\n",
        "    return (np.exp(-x))/((np.exp(-x)+1)**2)"
      ],
      "execution_count": 64,
      "outputs": []
    },
    {
      "cell_type": "code",
      "metadata": {
        "id": "IkXo3xDGEOYw"
      },
      "source": [
        "#Softmax\n",
        "def softmax(x):\n",
        "    exp_element=np.exp(x-x.max())\n",
        "    return exp_element/np.sum(exp_element,axis=0)\n",
        "\n",
        "#derivative of softmax\n",
        "def d_softmax(x):\n",
        "    exp_element=np.exp(x-x.max())\n",
        "    return exp_element/np.sum(exp_element,axis=0)*(1-exp_element/np.sum(exp_element,axis=0))"
      ],
      "execution_count": 65,
      "outputs": []
    },
    {
      "cell_type": "code",
      "metadata": {
        "id": "H0jMf3s9Eiiy"
      },
      "source": [
        "#forward and backward pass\n",
        "def forward_backward_pass(x,y):\n",
        "    targets = np.zeros((len(y),10), np.float32)\n",
        "    targets[range(targets.shape[0]),y] = 1\n",
        " \n",
        "    \n",
        "    x_W1=x.dot(W1)\n",
        "    x_sigmoid=sigmoid(x_W1)\n",
        "    x_W2=x_sigmoid.dot(W2)\n",
        "    out=softmax(x_W2)\n",
        "   \n",
        " \n",
        "    error=2*(out-targets)/out.shape[0]*d_softmax(x_W2)\n",
        "    update_W2=x_sigmoid.T@error\n",
        "    \n",
        "    \n",
        "    error=((W2).dot(error.T)).T*d_sigmoid(x_W1)\n",
        "    update_W1=x.T@error\n",
        "\n",
        "    return out,update_W1,update_W2 "
      ],
      "execution_count": 66,
      "outputs": []
    },
    {
      "cell_type": "code",
      "metadata": {
        "colab": {
          "base_uri": "https://localhost:8080/"
        },
        "id": "ggJug6W9yaFx",
        "outputId": "83e36c66-5aa1-46c3-cebd-f6db2f1dd265"
      },
      "source": [
        "epochs=2000\n",
        "lr=0.5\n",
        "batch=50000\n",
        "\n",
        "losses,accuracies,val_accuracies=[],[],[]\n",
        "\n",
        "for i in range(epochs+1):\n",
        "    sample=np.random.randint(0,x_train.shape[0],size=(batch))\n",
        "    x=x_train[sample].reshape((-1,28*28))\n",
        "    y=y_train[sample]\n",
        " \n",
        "\n",
        "    out,update_W1,update_W2=forward_backward_pass(x,y)\n",
        "  \n",
        "    category=np.argmax(out,axis=1)\n",
        "    accuracy=(category==y).mean()\n",
        "    accuracies.append(accuracy)\n",
        "    \n",
        "    loss=((category-y)**2).mean()\n",
        "    losses.append(loss.item())\n",
        "    \n",
        "    W1=W1-lr*update_W1\n",
        "    W2=W2-lr*update_W2\n",
        "    \n",
        "    if(i%20==0):    \n",
        "        x_val=x_val.reshape((-1,28*28))\n",
        "        val_out=np.argmax(softmax(sigmoid(x_val.dot(W1)).dot(W2)),axis=1)\n",
        "        val_acc=(val_out==y_val).mean()\n",
        "        val_accuracies.append(val_acc.item())\n",
        "\n",
        "    if(i%500==0): \n",
        "      print(f'For {i}th epoch: train accuracy: {accuracy:.3f} | validation accuracy:{val_acc:.3f}')\n"
      ],
      "execution_count": 67,
      "outputs": [
        {
          "output_type": "stream",
          "name": "stdout",
          "text": [
            "For 0th epoch: train accuracy: 0.097 | validation accuracy:0.093\n",
            "For 500th epoch: train accuracy: 0.261 | validation accuracy:0.248\n",
            "For 1000th epoch: train accuracy: 0.398 | validation accuracy:0.386\n",
            "For 1500th epoch: train accuracy: 0.474 | validation accuracy:0.462\n",
            "For 2000th epoch: train accuracy: 0.520 | validation accuracy:0.510\n"
          ]
        }
      ]
    },
    {
      "cell_type": "code",
      "metadata": {
        "colab": {
          "base_uri": "https://localhost:8080/",
          "height": 312
        },
        "id": "hyqE6xQ_zB4h",
        "outputId": "176e7a37-9ef6-488d-b0cd-831724164f13"
      },
      "source": [
        "plt.ylim(-0.1, 1.1)\n",
        "plt.xlabel('Epochs')\n",
        "plt.ylabel('accuracy')\n",
        "plt.title('Training accuracy over Epochs ')\n",
        "plot(accuracies)"
      ],
      "execution_count": 68,
      "outputs": [
        {
          "output_type": "execute_result",
          "data": {
            "text/plain": [
              "[<matplotlib.lines.Line2D at 0x7f17f3c8f350>]"
            ]
          },
          "metadata": {},
          "execution_count": 68
        },
        {
          "output_type": "display_data",
          "data": {
            "image/png": "[encoded data removed]",
            "text/plain": [
              "<Figure size 432x288 with 1 Axes>"
            ]
          },
          "metadata": {
            "needs_background": "light"
          }
        }
      ]
    },
    {
      "cell_type": "code",
      "metadata": {
        "colab": {
          "base_uri": "https://localhost:8080/",
          "height": 312
        },
        "id": "074QeXDozaxD",
        "outputId": "39893639-cdef-4ae4-835b-d1154de65775"
      },
      "source": [
        "plt.xlabel('Epochs')\n",
        "plt.ylabel('accuracy')\n",
        "plt.title('Validation accuracy over Epochs ')\n",
        "plot(val_accuracies)"
      ],
      "execution_count": 69,
      "outputs": [
        {
          "output_type": "execute_result",
          "data": {
            "text/plain": [
              "[<matplotlib.lines.Line2D at 0x7f17f3c07810>]"
            ]
          },
          "metadata": {},
          "execution_count": 69
        },
        {
          "output_type": "display_data",
          "data": {
            "image/png": "[encoded data removed]",
            "text/plain": [
              "<Figure size 432x288 with 1 Axes>"
            ]
          },
          "metadata": {
            "needs_background": "light"
          }
        }
      ]
    },
    {
      "cell_type": "code",
      "metadata": {
        "colab": {
          "base_uri": "https://localhost:8080/",
          "height": 312
        },
        "id": "h2UA9bUyDpAZ",
        "outputId": "84d99d99-9e5f-436c-d494-f635da75819e"
      },
      "source": [
        "plt.xlabel('Epochs')\n",
        "plt.ylabel('Cost')\n",
        "plt.title('Cost function ')\n",
        "plot(losses)"
      ],
      "execution_count": 70,
      "outputs": [
        {
          "output_type": "execute_result",
          "data": {
            "text/plain": [
              "[<matplotlib.lines.Line2D at 0x7f17f3bf0450>]"
            ]
          },
          "metadata": {},
          "execution_count": 70
        },
        {
          "output_type": "display_data",
          "data": {
            "image/png": "[encoded data removed]",
            "text/plain": [
              "<Figure size 432x288 with 1 Axes>"
            ]
          },
          "metadata": {
            "needs_background": "light"
          }
        }
      ]
    },
    {
      "cell_type": "code",
      "metadata": {
        "colab": {
          "base_uri": "https://localhost:8080/"
        },
        "id": "t7KtCyFbze9C",
        "outputId": "bc8c9428-ac3d-40dd-df78-d5f4753e3828"
      },
      "source": [
        "test_out=np.argmax(softmax(sigmoid(x_test.dot(W1)).dot(W2)),axis=1)\n",
        "test_acc=(test_out==y_test).mean().item()\n",
        "print(f'Test accuracy = {test_acc*100:.2f}%')"
      ],
      "execution_count": 71,
      "outputs": [
        {
          "output_type": "stream",
          "name": "stdout",
          "text": [
            "Test accuracy = 51.85%\n"
          ]
        }
      ]
    },
    {
      "cell_type": "code",
      "metadata": {
        "colab": {
          "base_uri": "https://localhost:8080/",
          "height": 282
        },
        "id": "hblnj0Qhz7u-",
        "outputId": "4506e114-5b6a-4909-dc95-f668c1a59f6e"
      },
      "source": [
        "m = [[0,0,0,0,0,0,0],\n",
        "     [0,0,10,10,10,0,0],\n",
        "     [0,0,0,0,10,0,0],\n",
        "     [0,0,0,0,10,0,0],\n",
        "     [0,0,0,0,10,0,0],\n",
        "     [0,0,0,0,10,0,0],\n",
        "     [0,0,0,0,0,0,0]]\n",
        "\n",
        "m = np.concatenate([np.concatenate([[x]*4 for x in y]*4) for y in m])\n",
        "m=m.reshape(1,-1)\n",
        "imshow(m.reshape(28,28))\n",
        "x = np.argmax(sigmoid(m.dot(W1)).dot(W2),axis=1)\n",
        "x"
      ],
      "execution_count": null,
      "outputs": [
        {
          "output_type": "execute_result",
          "data": {
            "text/plain": [
              "array([0])"
            ]
          },
          "metadata": {},
          "execution_count": 31
        },
        {
          "output_type": "display_data",
          "data": {
            "image/png": "[encoded data removed]",
            "text/plain": [
              "<Figure size 432x288 with 1 Axes>"
            ]
          },
          "metadata": {
            "needs_background": "light"
          }
        }
      ]
    },
    {
      "cell_type": "code",
      "metadata": {
        "id": "Y37t6klk0aWQ",
        "colab": {
          "base_uri": "https://localhost:8080/",
          "height": 282
        },
        "outputId": "60939a8a-6484-48fb-debf-bc330a7fc994"
      },
      "source": [
        "n = [[0,0,0,0,0,0,0],\n",
        "     [0,0,0,10,0,0,0],\n",
        "     [0,0,0,10,0,0,0],\n",
        "     [0,0,0,10,0,0,0],\n",
        "     [0,0,0,10,0,0,0],\n",
        "     [0,0,0,10,0,0,0],\n",
        "     [0,0,0,0,0,0,0]]\n",
        "\n",
        "n = np.concatenate([np.concatenate([[x]*4 for x in y]*4) for y in n])\n",
        "n=n.reshape(1,-1)\n",
        "imshow(n.reshape(28,28))\n",
        "x = np.argmax(sigmoid(n.dot(W1)).dot(W2),axis=1)\n",
        "x"
      ],
      "execution_count": null,
      "outputs": [
        {
          "output_type": "execute_result",
          "data": {
            "text/plain": [
              "array([0])"
            ]
          },
          "metadata": {},
          "execution_count": 32
        },
        {
          "output_type": "display_data",
          "data": {
            "image/png": "[encoded data removed]",
            "text/plain": [
              "<Figure size 432x288 with 1 Axes>"
            ]
          },
          "metadata": {
            "needs_background": "light"
          }
        }
      ]
    },
    {
      "cell_type": "code",
      "metadata": {
        "id": "m1t-9tAtC-er"
      },
      "source": [
        ""
      ],
      "execution_count": null,
      "outputs": []
    }
  ]
}