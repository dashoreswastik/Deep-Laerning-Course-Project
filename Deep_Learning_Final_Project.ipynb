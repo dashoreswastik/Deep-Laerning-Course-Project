{
  "nbformat": 4,
  "nbformat_minor": 0,
  "metadata": {
    "colab": {
      "name": "Deep Learning Final Project.ipynb",
      "provenance": []
    },
    "kernelspec": {
      "name": "python3",
      "display_name": "Python 3"
    },
    "language_info": {
      "name": "python"
    },
    "accelerator": "GPU"
  },
  "cells": [
    {
      "cell_type": "code",
      "metadata": {
        "id": "9ppPEdG3mj7A"
      },
      "source": [
        "import tensorflow as tf\n",
        "import keras\n",
        "import pandas as pd\n",
        "import numpy as np\n",
        "import zipfile\n",
        "import os\n",
        "from random import randint\n",
        "from keras.layers import Dense,Flatten,MaxPool2D,Conv2D,Dropout,GlobalAveragePooling2D\n",
        "from keras.losses import binary_crossentropy,categorical_crossentropy\n",
        "from keras.models import Model,Sequential\n",
        "import matplotlib.pyplot as plt\n",
        "from keras.preprocessing.image import ImageDataGenerator\n",
        "from keras.preprocessing.image import load_img,img_to_array"
      ],
      "execution_count": null,
      "outputs": []
    },
    {
      "cell_type": "code",
      "metadata": {
        "colab": {
          "base_uri": "https://localhost:8080/"
        },
        "id": "FIokDy-cr2hu",
        "outputId": "a6471bd8-05ce-441d-b4b1-fa412ac42eaf"
      },
      "source": [
        "image_generator = ImageDataGenerator(validation_split=0.2,rescale = 1./255)\n",
        "train_data_gen = image_generator.flow_from_directory(directory='/content/drive/MyDrive/Dataset/natural_images',\n",
        "                                                     subset='training',target_size=(100,100),class_mode='categorical')\n",
        "val_data_gen = image_generator.flow_from_directory(directory='/content/drive/MyDrive/Dataset/natural_images',\n",
        "                                                   subset='validation',target_size=(100,100),class_mode='categorical')"
      ],
      "execution_count": null,
      "outputs": [
        {
          "output_type": "stream",
          "name": "stdout",
          "text": [
            "Found 5525 images belonging to 8 classes.\n",
            "Found 1378 images belonging to 8 classes.\n"
          ]
        }
      ]
    },
    {
      "cell_type": "markdown",
      "metadata": {
        "id": "uZCeQdVNXGuq"
      },
      "source": [
        "##1. Simple CNN model"
      ]
    },
    {
      "cell_type": "code",
      "metadata": {
        "id": "MEEISZL1tHNq"
      },
      "source": [
        "model = tf.keras.models.Sequential([\n",
        "    tf.keras.layers.Conv2D(64,(3,3),activation='relu',input_shape = (100,100,3)),\n",
        "    tf.keras.layers.MaxPooling2D(2,2),\n",
        "    tf.keras.layers.Conv2D(32,(3,3),activation='relu'),\n",
        "    tf.keras.layers.MaxPooling2D(2,2),\n",
        "    tf.keras.layers.Flatten(),\n",
        "    tf.keras.layers.Dense(512,activation='relu'),\n",
        "    tf.keras.layers.Dense(128,activation='relu'),\n",
        "    tf.keras.layers.Dense(8,activation='softmax')\n",
        "\n",
        "])"
      ],
      "execution_count": null,
      "outputs": []
    },
    {
      "cell_type": "code",
      "metadata": {
        "colab": {
          "base_uri": "https://localhost:8080/"
        },
        "id": "sAo6Gf5OvBhk",
        "outputId": "cf42e0c9-875a-41b3-8b3b-5168eb154242"
      },
      "source": [
        "model.summary()"
      ],
      "execution_count": null,
      "outputs": [
        {
          "output_type": "stream",
          "name": "stdout",
          "text": [
            "Model: \"sequential\"\n",
            "_________________________________________________________________\n",
            " Layer (type)                Output Shape              Param #   \n",
            "=================================================================\n",
            " conv2d (Conv2D)             (None, 98, 98, 64)        1792      \n",
            "                                                                 \n",
            " max_pooling2d (MaxPooling2D  (None, 49, 49, 64)       0         \n",
            " )                                                               \n",
            "                                                                 \n",
            " conv2d_1 (Conv2D)           (None, 47, 47, 32)        18464     \n",
            "                                                                 \n",
            " max_pooling2d_1 (MaxPooling  (None, 23, 23, 32)       0         \n",
            " 2D)                                                             \n",
            "                                                                 \n",
            " flatten (Flatten)           (None, 16928)             0         \n",
            "                                                                 \n",
            " dense (Dense)               (None, 512)               8667648   \n",
            "                                                                 \n",
            " dense_1 (Dense)             (None, 128)               65664     \n",
            "                                                                 \n",
            " dense_2 (Dense)             (None, 8)                 1032      \n",
            "                                                                 \n",
            "=================================================================\n",
            "Total params: 8,754,600\n",
            "Trainable params: 8,754,600\n",
            "Non-trainable params: 0\n",
            "_________________________________________________________________\n"
          ]
        }
      ]
    },
    {
      "cell_type": "code",
      "metadata": {
        "id": "p3YmaVsWv8r2"
      },
      "source": [
        "model.compile(loss='categorical_crossentropy',optimizer='RMSprop',metrics=['accuracy'])\n"
      ],
      "execution_count": null,
      "outputs": []
    },
    {
      "cell_type": "code",
      "metadata": {
        "colab": {
          "base_uri": "https://localhost:8080/"
        },
        "id": "5H6EZcZFwP1G",
        "outputId": "80f8fae1-3e3c-4f4e-d0a2-5ea850a1705e"
      },
      "source": [
        "history = model.fit(train_data_gen,epochs =10,validation_data = val_data_gen,batch_size=10 ,verbose=1)"
      ],
      "execution_count": null,
      "outputs": [
        {
          "output_type": "stream",
          "name": "stdout",
          "text": [
            "Epoch 1/10\n",
            "173/173 [==============================] - 118s 682ms/step - loss: 0.1140 - accuracy: 0.9893 - val_loss: 0.7929 - val_accuracy: 0.9107\n",
            "Epoch 2/10\n",
            "173/173 [==============================] - 118s 682ms/step - loss: 0.0953 - accuracy: 0.9904 - val_loss: 1.0720 - val_accuracy: 0.9035\n",
            "Epoch 3/10\n",
            "173/173 [==============================] - 119s 687ms/step - loss: 0.0905 - accuracy: 0.9884 - val_loss: 1.7061 - val_accuracy: 0.8846\n",
            "Epoch 4/10\n",
            "173/173 [==============================] - 120s 693ms/step - loss: 0.0668 - accuracy: 0.9897 - val_loss: 1.0870 - val_accuracy: 0.9086\n",
            "Epoch 5/10\n",
            "173/173 [==============================] - 120s 692ms/step - loss: 0.0688 - accuracy: 0.9922 - val_loss: 2.1556 - val_accuracy: 0.8643\n",
            "Epoch 6/10\n",
            "173/173 [==============================] - 120s 694ms/step - loss: 0.0275 - accuracy: 0.9960 - val_loss: 1.1690 - val_accuracy: 0.9100\n",
            "Epoch 7/10\n",
            "173/173 [==============================] - 119s 689ms/step - loss: 0.0830 - accuracy: 0.9899 - val_loss: 1.1036 - val_accuracy: 0.8991\n",
            "Epoch 8/10\n",
            "173/173 [==============================] - 119s 686ms/step - loss: 0.1238 - accuracy: 0.9917 - val_loss: 1.1446 - val_accuracy: 0.9028\n",
            "Epoch 9/10\n",
            "173/173 [==============================] - 118s 684ms/step - loss: 0.0795 - accuracy: 0.9931 - val_loss: 1.2136 - val_accuracy: 0.9049\n",
            "Epoch 10/10\n",
            "173/173 [==============================] - 119s 687ms/step - loss: 0.0332 - accuracy: 0.9967 - val_loss: 1.3323 - val_accuracy: 0.9006\n"
          ]
        }
      ]
    },
    {
      "cell_type": "code",
      "metadata": {
        "id": "CWsKV6SQwk9Q",
        "colab": {
          "base_uri": "https://localhost:8080/",
          "height": 316
        },
        "outputId": "30a31918-7ccc-4b67-c542-7e7f95071978"
      },
      "source": [
        "acc = history.history['accuracy']\n",
        "val_acc = history.history['val_accuracy']\n",
        "loss = history.history['loss']\n",
        "val_loss = history.history['val_loss']\n",
        "epochs = range(len(acc))\n",
        "# plt.plot(epochs, loss, 'r', label='Training loss')\n",
        "# plt.plot(epochs, val_loss, 'g', label='Validation loss')\n",
        "plt.plot(epochs, acc, 'r', label='Training accuracy')\n",
        "plt.plot(epochs, val_acc, 'b', label='Validation accuracy')\n",
        "plt.title('Training and validation accuracy')\n",
        "plt.legend(loc=0)\n",
        "plt.figure()"
      ],
      "execution_count": null,
      "outputs": [
        {
          "output_type": "execute_result",
          "data": {
            "text/plain": [
              "<Figure size 432x288 with 0 Axes>"
            ]
          },
          "metadata": {},
          "execution_count": 8
        },
        {
          "output_type": "display_data",
          "data": {
            "image/png": "[encoded data removed]",
            "text/plain": [
              "<Figure size 432x288 with 1 Axes>"
            ]
          },
          "metadata": {
            "needs_background": "light"
          }
        },
        {
          "output_type": "display_data",
          "data": {
            "text/plain": [
              "<Figure size 432x288 with 0 Axes>"
            ]
          },
          "metadata": {}
        }
      ]
    },
    {
      "cell_type": "markdown",
      "source": [
        "##2. CNN with Data Augmentation and Normalization"
      ],
      "metadata": {
        "id": "inus522AxSIg"
      }
    },
    {
      "cell_type": "code",
      "source": [
        "image_generator = ImageDataGenerator(validation_split=0.2,\n",
        "                                     rescale = 1./255,\n",
        "                                     rotation_range=40,\n",
        "                                     width_shift_range=0.2,\n",
        "                                     height_shift_range=0.2,\n",
        "                                     shear_range=0.2,\n",
        "                                     zoom_range=0.2,\n",
        "                                     horizontal_flip=True,\n",
        "                                     fill_mode='nearest')\n",
        "train_data_gen = image_generator.flow_from_directory(directory='/content/drive/MyDrive/Dataset/natural_images',\n",
        "                                                     subset='training',target_size=(100,100),class_mode='categorical')\n",
        "val_data_gen = image_generator.flow_from_directory(directory='/content/drive/MyDrive/Dataset/natural_images',\n",
        "                                                   subset='validation',target_size=(100,100),class_mode='categorical')"
      ],
      "metadata": {
        "id": "SyTsZMI5xYaY",
        "colab": {
          "base_uri": "https://localhost:8080/"
        },
        "outputId": "67736efe-cf41-49d2-c098-0afdc41a6ef9"
      },
      "execution_count": null,
      "outputs": [
        {
          "output_type": "stream",
          "name": "stdout",
          "text": [
            "Found 5525 images belonging to 8 classes.\n",
            "Found 1378 images belonging to 8 classes.\n"
          ]
        }
      ]
    },
    {
      "cell_type": "code",
      "source": [
        "model = tf.keras.models.Sequential([\n",
        "    tf.keras.layers.Conv2D(64,(3,3),activation='relu',input_shape = (100,100,3)),\n",
        "    tf.keras.layers.MaxPooling2D(2,2),\n",
        "    tf.keras.layers.Conv2D(32,(3,3),activation='relu'),\n",
        "    tf.keras.layers.MaxPooling2D(2,2),\n",
        "    tf.keras.layers.Flatten(),\n",
        "    tf.keras.layers.Dense(512,activation='relu'),\n",
        "    tf.keras.layers.Dense(128,activation='relu'),\n",
        "    tf.keras.layers.Dense(8,activation='softmax')\n",
        "\n",
        "])"
      ],
      "metadata": {
        "id": "x-oZEAmIxYYe"
      },
      "execution_count": null,
      "outputs": []
    },
    {
      "cell_type": "code",
      "source": [
        "model.summary()"
      ],
      "metadata": {
        "id": "4wiFpNb3xYWf",
        "colab": {
          "base_uri": "https://localhost:8080/"
        },
        "outputId": "c8aa78d7-46e6-40d2-e655-f25278577d06"
      },
      "execution_count": null,
      "outputs": [
        {
          "output_type": "stream",
          "name": "stdout",
          "text": [
            "Model: \"sequential\"\n",
            "_________________________________________________________________\n",
            " Layer (type)                Output Shape              Param #   \n",
            "=================================================================\n",
            " conv2d (Conv2D)             (None, 98, 98, 64)        1792      \n",
            "                                                                 \n",
            " max_pooling2d (MaxPooling2D  (None, 49, 49, 64)       0         \n",
            " )                                                               \n",
            "                                                                 \n",
            " conv2d_1 (Conv2D)           (None, 47, 47, 32)        18464     \n",
            "                                                                 \n",
            " max_pooling2d_1 (MaxPooling  (None, 23, 23, 32)       0         \n",
            " 2D)                                                             \n",
            "                                                                 \n",
            " flatten (Flatten)           (None, 16928)             0         \n",
            "                                                                 \n",
            " dense (Dense)               (None, 512)               8667648   \n",
            "                                                                 \n",
            " dense_1 (Dense)             (None, 128)               65664     \n",
            "                                                                 \n",
            " dense_2 (Dense)             (None, 8)                 1032      \n",
            "                                                                 \n",
            "=================================================================\n",
            "Total params: 8,754,600\n",
            "Trainable params: 8,754,600\n",
            "Non-trainable params: 0\n",
            "_________________________________________________________________\n"
          ]
        }
      ]
    },
    {
      "cell_type": "code",
      "source": [
        "model.compile(loss='categorical_crossentropy',optimizer='RMSprop',metrics=['accuracy'])"
      ],
      "metadata": {
        "id": "RTpgDN0FxYUm"
      },
      "execution_count": null,
      "outputs": []
    },
    {
      "cell_type": "code",
      "source": [
        "history = model.fit(train_data_gen,epochs =10,validation_data = val_data_gen,batch_size=10 ,verbose=1)"
      ],
      "metadata": {
        "id": "Ao_LiX6VxYS3",
        "colab": {
          "base_uri": "https://localhost:8080/"
        },
        "outputId": "f8cd8d63-8065-44fa-a7e9-a0a4acb15e62"
      },
      "execution_count": null,
      "outputs": [
        {
          "output_type": "stream",
          "name": "stdout",
          "text": [
            "Epoch 1/10\n",
            "173/173 [==============================] - 2857s 16s/step - loss: 1.4385 - accuracy: 0.4930 - val_loss: 0.8957 - val_accuracy: 0.6974\n",
            "Epoch 2/10\n",
            "173/173 [==============================] - 44s 257ms/step - loss: 0.8168 - accuracy: 0.7068 - val_loss: 0.8284 - val_accuracy: 0.7170\n",
            "Epoch 3/10\n",
            "173/173 [==============================] - 44s 255ms/step - loss: 0.7120 - accuracy: 0.7488 - val_loss: 0.7318 - val_accuracy: 0.7482\n",
            "Epoch 4/10\n",
            "173/173 [==============================] - 44s 255ms/step - loss: 0.6479 - accuracy: 0.7712 - val_loss: 1.0150 - val_accuracy: 0.6205\n",
            "Epoch 5/10\n",
            "173/173 [==============================] - 44s 256ms/step - loss: 0.5880 - accuracy: 0.7910 - val_loss: 0.6579 - val_accuracy: 0.7736\n",
            "Epoch 6/10\n",
            "173/173 [==============================] - 44s 255ms/step - loss: 0.5273 - accuracy: 0.8161 - val_loss: 0.8298 - val_accuracy: 0.7344\n",
            "Epoch 7/10\n",
            "173/173 [==============================] - 44s 252ms/step - loss: 0.5122 - accuracy: 0.8237 - val_loss: 0.5673 - val_accuracy: 0.8055\n",
            "Epoch 8/10\n",
            "173/173 [==============================] - 44s 253ms/step - loss: 0.4960 - accuracy: 0.8250 - val_loss: 0.7013 - val_accuracy: 0.7750\n",
            "Epoch 9/10\n",
            "173/173 [==============================] - 44s 252ms/step - loss: 0.4721 - accuracy: 0.8337 - val_loss: 0.5471 - val_accuracy: 0.8237\n",
            "Epoch 10/10\n",
            "173/173 [==============================] - 44s 252ms/step - loss: 0.4501 - accuracy: 0.8414 - val_loss: 0.5844 - val_accuracy: 0.8171\n"
          ]
        }
      ]
    },
    {
      "cell_type": "code",
      "source": [
        "acc = history.history['accuracy']\n",
        "val_acc = history.history['val_accuracy']\n",
        "loss = history.history['loss']\n",
        "val_loss = history.history['val_loss']\n",
        "epochs = range(len(acc))\n",
        "plt.plot(epochs, acc, 'y', label='Training accuracy')\n",
        "plt.plot(epochs, val_acc, 'b', label='Validation accuracy')\n",
        "plt.title('Training and validation accuracy')\n",
        "plt.legend(loc=0)\n",
        "plt.figure()"
      ],
      "metadata": {
        "id": "zjq32_k6xYQn",
        "colab": {
          "base_uri": "https://localhost:8080/",
          "height": 316
        },
        "outputId": "bc8e2f3e-b4b5-4d08-9f66-da51966545b5"
      },
      "execution_count": null,
      "outputs": [
        {
          "output_type": "execute_result",
          "data": {
            "text/plain": [
              "<Figure size 432x288 with 0 Axes>"
            ]
          },
          "metadata": {},
          "execution_count": 7
        },
        {
          "output_type": "display_data",
          "data": {
            "image/png": "[encoded data removed]",
            "text/plain": [
              "<Figure size 432x288 with 1 Axes>"
            ]
          },
          "metadata": {
            "needs_background": "light"
          }
        },
        {
          "output_type": "display_data",
          "data": {
            "text/plain": [
              "<Figure size 432x288 with 0 Axes>"
            ]
          },
          "metadata": {}
        }
      ]
    },
    {
      "cell_type": "markdown",
      "source": [
        "##3. CNN with Dropout"
      ],
      "metadata": {
        "id": "03o2O23n0XVi"
      }
    },
    {
      "cell_type": "code",
      "source": [
        "image_generator = ImageDataGenerator(validation_split=0.2,\n",
        "                                     rotation_range=40,\n",
        "                                     width_shift_range=0.2,\n",
        "                                     height_shift_range=0.2,\n",
        "                                     shear_range=0.2,\n",
        "                                     zoom_range=0.2,\n",
        "                                     horizontal_flip=True,\n",
        "                                     fill_mode='nearest')\n",
        "train_data_gen = image_generator.flow_from_directory(directory='/content/drive/MyDrive/Dataset/natural_images',\n",
        "                                                     subset='training',target_size=(100,100),class_mode='categorical')\n",
        "val_data_gen = image_generator.flow_from_directory(directory='/content/drive/MyDrive/Dataset/natural_images',\n",
        "                                                   subset='validation',target_size=(100,100),class_mode='categorical')\n",
        "\n"
      ],
      "metadata": {
        "id": "RopeVm7bxYM-",
        "colab": {
          "base_uri": "https://localhost:8080/"
        },
        "outputId": "f28555f3-c233-4189-8971-ec23897d0f72"
      },
      "execution_count": null,
      "outputs": [
        {
          "output_type": "stream",
          "name": "stdout",
          "text": [
            "Found 5525 images belonging to 8 classes.\n",
            "Found 1378 images belonging to 8 classes.\n"
          ]
        }
      ]
    },
    {
      "cell_type": "code",
      "source": [
        "model = tf.keras.models.Sequential([\n",
        "    tf.keras.layers.Conv2D(64,(3,3),activation='relu',input_shape = (100,100,3)),\n",
        "    tf.keras.layers.MaxPooling2D(2,2),\n",
        "    tf.keras.layers.Conv2D(32,(3,3),activation='relu'),\n",
        "    tf.keras.layers.MaxPooling2D(2,2),\n",
        "    tf.keras.layers.Flatten(),\n",
        "    tf.keras.layers.Dense(512,activation='relu'),\n",
        "    tf.keras.layers.Dropout(0.5),\n",
        "    tf.keras.layers.Dense(128,activation='relu'),\n",
        "    tf.keras.layers.Dense(8,activation='softmax')\n",
        "\n",
        "])"
      ],
      "metadata": {
        "id": "Lm8_wykuxYJh"
      },
      "execution_count": null,
      "outputs": []
    },
    {
      "cell_type": "code",
      "source": [
        "model.summary()"
      ],
      "metadata": {
        "id": "M9q05r8UxYHp",
        "colab": {
          "base_uri": "https://localhost:8080/"
        },
        "outputId": "7a26e7f1-334e-4034-b5a4-a789c8c7f62b"
      },
      "execution_count": null,
      "outputs": [
        {
          "output_type": "stream",
          "name": "stdout",
          "text": [
            "Model: \"sequential_1\"\n",
            "_________________________________________________________________\n",
            " Layer (type)                Output Shape              Param #   \n",
            "=================================================================\n",
            " conv2d_2 (Conv2D)           (None, 98, 98, 64)        1792      \n",
            "                                                                 \n",
            " max_pooling2d_2 (MaxPooling  (None, 49, 49, 64)       0         \n",
            " 2D)                                                             \n",
            "                                                                 \n",
            " conv2d_3 (Conv2D)           (None, 47, 47, 32)        18464     \n",
            "                                                                 \n",
            " max_pooling2d_3 (MaxPooling  (None, 23, 23, 32)       0         \n",
            " 2D)                                                             \n",
            "                                                                 \n",
            " flatten_1 (Flatten)         (None, 16928)             0         \n",
            "                                                                 \n",
            " dense_3 (Dense)             (None, 512)               8667648   \n",
            "                                                                 \n",
            " dropout (Dropout)           (None, 512)               0         \n",
            "                                                                 \n",
            " dense_4 (Dense)             (None, 128)               65664     \n",
            "                                                                 \n",
            " dense_5 (Dense)             (None, 8)                 1032      \n",
            "                                                                 \n",
            "=================================================================\n",
            "Total params: 8,754,600\n",
            "Trainable params: 8,754,600\n",
            "Non-trainable params: 0\n",
            "_________________________________________________________________\n"
          ]
        }
      ]
    },
    {
      "cell_type": "code",
      "source": [
        "from tensorflow.keras.optimizers import RMSprop\n",
        "model.compile(loss='categorical_crossentropy',optimizer='adam',metrics=['accuracy'])"
      ],
      "metadata": {
        "id": "W0FepARHxYFo"
      },
      "execution_count": null,
      "outputs": []
    },
    {
      "cell_type": "code",
      "source": [
        "history = model.fit(train_data_gen,epochs =10,validation_data = val_data_gen,batch_size=10 ,verbose=1)"
      ],
      "metadata": {
        "id": "pYbmT-rs06j5",
        "colab": {
          "base_uri": "https://localhost:8080/"
        },
        "outputId": "7c854b96-d46e-4ae1-ede8-997a0fbb5308"
      },
      "execution_count": null,
      "outputs": [
        {
          "output_type": "stream",
          "name": "stdout",
          "text": [
            "Epoch 1/10\n",
            "173/173 [==============================] - 45s 254ms/step - loss: 8.8881 - accuracy: 0.2702 - val_loss: 1.8285 - val_accuracy: 0.3048\n",
            "Epoch 2/10\n",
            "173/173 [==============================] - 44s 253ms/step - loss: 1.7112 - accuracy: 0.3683 - val_loss: 1.6203 - val_accuracy: 0.3948\n",
            "Epoch 3/10\n",
            "173/173 [==============================] - 44s 254ms/step - loss: 1.6199 - accuracy: 0.4033 - val_loss: 1.4649 - val_accuracy: 0.4216\n",
            "Epoch 4/10\n",
            "173/173 [==============================] - 43s 250ms/step - loss: 1.5338 - accuracy: 0.4273 - val_loss: 1.5820 - val_accuracy: 0.3897\n",
            "Epoch 5/10\n",
            "173/173 [==============================] - 44s 254ms/step - loss: 1.4980 - accuracy: 0.4465 - val_loss: 1.2682 - val_accuracy: 0.5305\n",
            "Epoch 6/10\n",
            "173/173 [==============================] - 43s 250ms/step - loss: 1.3731 - accuracy: 0.5144 - val_loss: 1.3688 - val_accuracy: 0.5327\n",
            "Epoch 7/10\n",
            "173/173 [==============================] - 43s 250ms/step - loss: 1.3274 - accuracy: 0.5138 - val_loss: 1.3450 - val_accuracy: 0.5058\n",
            "Epoch 8/10\n",
            "173/173 [==============================] - 43s 249ms/step - loss: 1.2606 - accuracy: 0.5410 - val_loss: 1.1693 - val_accuracy: 0.5559\n",
            "Epoch 9/10\n",
            "173/173 [==============================] - 43s 249ms/step - loss: 1.2123 - accuracy: 0.5757 - val_loss: 1.1292 - val_accuracy: 0.5864\n",
            "Epoch 10/10\n",
            "173/173 [==============================] - 43s 251ms/step - loss: 1.1143 - accuracy: 0.6087 - val_loss: 1.1396 - val_accuracy: 0.5660\n"
          ]
        }
      ]
    },
    {
      "cell_type": "code",
      "source": [
        "acc = history.history['accuracy']\n",
        "val_acc = history.history['val_accuracy']\n",
        "loss = history.history['loss']\n",
        "val_loss = history.history['val_loss']\n",
        "epochs = range(len(acc))\n",
        "plt.plot(epochs, acc, 'y', label='Training accuracy')\n",
        "plt.plot(epochs, val_acc, 'b', label='Validation accuracy')\n",
        "plt.title('Training and validation accuracy')\n",
        "plt.legend(loc=0)\n",
        "plt.figure()"
      ],
      "metadata": {
        "id": "CREmlMa107bn",
        "colab": {
          "base_uri": "https://localhost:8080/",
          "height": 316
        },
        "outputId": "e61a5eac-b470-4272-8044-b78bd92d5581"
      },
      "execution_count": null,
      "outputs": [
        {
          "output_type": "execute_result",
          "data": {
            "text/plain": [
              "<Figure size 432x288 with 0 Axes>"
            ]
          },
          "metadata": {},
          "execution_count": 13
        },
        {
          "output_type": "display_data",
          "data": {
            "image/png": "[encoded data removed]",
            "text/plain": [
              "<Figure size 432x288 with 1 Axes>"
            ]
          },
          "metadata": {
            "needs_background": "light"
          }
        },
        {
          "output_type": "display_data",
          "data": {
            "text/plain": [
              "<Figure size 432x288 with 0 Axes>"
            ]
          },
          "metadata": {}
        }
      ]
    },
    {
      "cell_type": "code",
      "source": [
        "model.save_weights(\"abc.h5\")"
      ],
      "metadata": {
        "id": "8TokPaB9-ne2"
      },
      "execution_count": null,
      "outputs": []
    },
    {
      "cell_type": "code",
      "source": [
        "savedModel = model.load_weights(\"abc.h5\")"
      ],
      "metadata": {
        "id": "qePQ-aOLN4Fm"
      },
      "execution_count": null,
      "outputs": []
    },
    {
      "cell_type": "code",
      "source": [
        ""
      ],
      "metadata": {
        "id": "aKl4XLIzOLF6"
      },
      "execution_count": null,
      "outputs": []
    }
  ]
}